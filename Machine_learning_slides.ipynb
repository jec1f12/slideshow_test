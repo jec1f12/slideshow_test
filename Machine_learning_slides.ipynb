{
 "metadata": {
  "celltoolbar": "Slideshow",
  "name": "",
  "signature": "sha256:de294959d0056d622657f83aa04906ea2332aeb404213a63e8d02b7be93e222f"
 },
 "nbformat": 3,
 "nbformat_minor": 0,
 "worksheets": [
  {
   "cells": [
    {
     "cell_type": "heading",
     "level": 1,
     "metadata": {
      "slideshow": {
       "slide_type": "slide"
      }
     },
     "source": [
      "Machine learning considerations"
     ]
    },
    {
     "cell_type": "heading",
     "level": 2,
     "metadata": {
      "slideshow": {
       "slide_type": "slide"
      }
     },
     "source": [
      "Definition"
     ]
    },
    {
     "cell_type": "markdown",
     "metadata": {
      "slideshow": {
       "slide_type": "subslide"
      }
     },
     "source": [
      "Machine learning is concerned with the design of programs/algorithims that automatically improve with experience. Tom Mitchell in his 1997 book Machine Learning gives a slightly more formal definition:\n",
      "\n",
      "<img src=\"machine_learning.jpg\" />\n",
      "\n",
      "> \"A computer program is said to **learn** from experience *E* with respect\n",
      "> to some class of tasks *T* and performance measure *P*, if its performance\n",
      "> at tasks in *T*, as measured by *P*, improves with experience *E*.\""
     ]
    },
    {
     "cell_type": "heading",
     "level": 2,
     "metadata": {
      "slideshow": {
       "slide_type": "slide"
      }
     },
     "source": [
      "Forming your problem"
     ]
    },
    {
     "cell_type": "markdown",
     "metadata": {
      "slideshow": {
       "slide_type": "subslide"
      }
     },
     "source": [
      " \n",
      "The first step in forming your learning program is identifying your *T*, *P* and *E*:\n"
     ]
    },
    {
     "cell_type": "markdown",
     "metadata": {
      "slideshow": {
       "slide_type": "subslide"
      }
     },
     "source": [
      "**A checkers game**:\n",
      "- Task *T*: playing checkers\n",
      "- Performance measure *P*: percent of games won against opponents\n",
      "- Training experience *E*: playing practice games against itself"
     ]
    },
    {
     "cell_type": "markdown",
     "metadata": {
      "slideshow": {
       "slide_type": "subslide"
      }
     },
     "source": [
      "**A handwriting recognition problem**\n",
      "+ *T*: recognizing and classifying handwritten words with images\n",
      "+ *P*: percentage of words correctly classified\n",
      "+ *E*: a database of words already classified"
     ]
    },
    {
     "cell_type": "markdown",
     "metadata": {
      "slideshow": {
       "slide_type": "subslide"
      }
     },
     "source": [
      "**A robot driving problem**\n",
      "+ *T*: driving on a motorway using vision sensors\n",
      "+ *P*: average distance travelled before error (as judged by a human observer)\n",
      "+ *E*: a sequence of images and steering commands recorded while observing a human driver"
     ]
    },
    {
     "cell_type": "markdown",
     "metadata": {
      "slideshow": {
       "slide_type": "subslide"
      }
     },
     "source": [
      "Or..."
     ]
    },
    {
     "cell_type": "markdown",
     "metadata": {
      "slideshow": {
       "slide_type": "subslide"
      }
     },
     "source": [
      "**A molecular design and property optimisation...problem**\n",
      "+ *T*: design and CSP of a molecule\n",
      "+ *P*: charge mobility of proposed molecule\n",
      "+ *E*: molecules with known charge mobilities "
     ]
    },
    {
     "cell_type": "heading",
     "level": 2,
     "metadata": {
      "slideshow": {
       "slide_type": "slide"
      }
     },
     "source": [
      "Training experiences"
     ]
    },
    {
     "cell_type": "markdown",
     "metadata": {
      "slideshow": {
       "slide_type": "subslide"
      }
     },
     "source": [
      "The first design choice is the type of training experience available to the learning program **Direct** or **Indirect**.\n",
      "\n",
      "For a checkers program direct experience could be learning from individual board states with the correct move for each.\n",
      "\n",
      "An indirect experience could be move sequences and final outcomes of games played. The value of moves early on in the sequence must be inferred indirectly from whether the game was won or lost.\n"
     ]
    },
    {
     "cell_type": "markdown",
     "metadata": {
      "slideshow": {
       "slide_type": "subslide"
      }
     },
     "source": [
      "There are two more important attributes of the training experience to decide on: how much control does the learner have over training examples and how well does the training experience represent the distribution of *P*.\n",
      "\n",
      "Training data could be provided by the teacher, learner or a random process. If the learner is generating their own examples, are they making slight pertubations on promising molecules or novel ones? The distribution of the training set is analogous to force field parameterisation.\n",
      "\n",
      "The choice of learning setting has a large influence on the formulation of the algorithim.\n",
      "\n"
     ]
    },
    {
     "cell_type": "heading",
     "level": 2,
     "metadata": {},
     "source": [
      "Cool applications of machine learning in chemistry"
     ]
    },
    {
     "cell_type": "code",
     "collapsed": false,
     "input": [],
     "language": "python",
     "metadata": {},
     "outputs": []
    }
   ],
   "metadata": {}
  }
 ]
}